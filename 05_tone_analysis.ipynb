{
 "cells": [
  {
   "cell_type": "markdown",
   "id": "e697fab4",
   "metadata": {},
   "source": [
    "# 1. Import of libraries and load of datasets"
   ]
  },
  {
   "cell_type": "code",
   "execution_count": 1,
   "id": "7da80a20",
   "metadata": {},
   "outputs": [],
   "source": [
    "import numpy as np\n",
    "import pandas as pd\n",
    "\n",
    "import matplotlib.pyplot as plt\n",
    "from matplotlib import cm\n",
    "\n",
    "from sklearn.linear_model import LogisticRegression\n",
    "from sklearn.pipeline import Pipeline\n",
    "from sklearn.feature_extraction.text import TfidfTransformer\n",
    "from sklearn.model_selection import cross_val_score\n",
    "from sklearn.feature_extraction.text import CountVectorizer\n",
    "from joblib import dump\n",
    "\n",
    "from imblearn.over_sampling import RandomOverSampler\n",
    "\n",
    "import re\n",
    "import spacy\n",
    "\n",
    "from tqdm import tqdm\n",
    "\n",
    "import warnings\n",
    "warnings.filterwarnings('ignore')\n",
    "\n",
    "# import spacy.cli \n",
    "# spacy.cli.download(\"de_core_news_sm\")"
   ]
  },
  {
   "cell_type": "code",
   "execution_count": 2,
   "id": "b0b5dc73",
   "metadata": {},
   "outputs": [],
   "source": [
    "train = pd.read_csv('data/train.csv')\n",
    "test = pd.read_csv('data/test.csv')"
   ]
  },
  {
   "cell_type": "code",
   "execution_count": 3,
   "id": "3c37e553",
   "metadata": {},
   "outputs": [],
   "source": [
    "X_train = train.Review\n",
    "y_train = train.Rate\n",
    "\n",
    "X_test = test.Review\n",
    "y_test = test.Rate"
   ]
  },
  {
   "cell_type": "markdown",
   "id": "1794109f",
   "metadata": {},
   "source": [
    "# 2. Handling Imbalance"
   ]
  },
  {
   "cell_type": "code",
   "execution_count": 4,
   "id": "5708c164",
   "metadata": {},
   "outputs": [
    {
     "data": {
      "text/plain": [
       "(3758, 2400)"
      ]
     },
     "execution_count": 4,
     "metadata": {},
     "output_type": "execute_result"
    }
   ],
   "source": [
    "np.sum(train.Rate == 1), np.sum(train.Rate == 0)"
   ]
  },
  {
   "cell_type": "markdown",
   "id": "cbb3a47c",
   "metadata": {},
   "source": [
    "Let's deal with this problem, using oversampling method."
   ]
  },
  {
   "cell_type": "code",
   "execution_count": 5,
   "id": "eca7916c",
   "metadata": {},
   "outputs": [],
   "source": [
    "X_over, y_over = RandomOverSampler(random_state=108).fit_resample(X_train.values.reshape(-1, 1), y_train)"
   ]
  },
  {
   "cell_type": "code",
   "execution_count": 6,
   "id": "04147a38",
   "metadata": {},
   "outputs": [
    {
     "data": {
      "text/plain": [
       "0.5"
      ]
     },
     "execution_count": 6,
     "metadata": {},
     "output_type": "execute_result"
    }
   ],
   "source": [
    "sum(y_over) / len(y_over)"
   ]
  },
  {
   "cell_type": "markdown",
   "id": "0cc20158",
   "metadata": {},
   "source": [
    "Now, the data is balanced"
   ]
  },
  {
   "cell_type": "code",
   "execution_count": 7,
   "id": "27028178",
   "metadata": {},
   "outputs": [],
   "source": [
    "X_over = pd.Series(X_over.reshape(-1,))"
   ]
  },
  {
   "cell_type": "markdown",
   "id": "5e4ac9c5",
   "metadata": {},
   "source": [
    "# 3. Text preprocessing"
   ]
  },
  {
   "cell_type": "markdown",
   "id": "5c79a6a1",
   "metadata": {},
   "source": [
    "## 3.1 Lowerization"
   ]
  },
  {
   "cell_type": "code",
   "execution_count": 8,
   "id": "e7427875",
   "metadata": {},
   "outputs": [
    {
     "data": {
      "text/plain": [
       "0     Das Gerät kam schnell und einwandfrei an!\n",
       "1           So wie ich es mir vorgestellt habe.\n",
       "2    Missing head phones please bring it thanks\n",
       "3                   Sehr gutes Handy top Kamera\n",
       "4       Gutes Produkt. Sehr Weiter zu empfehlen\n",
       "dtype: object"
      ]
     },
     "execution_count": 8,
     "metadata": {},
     "output_type": "execute_result"
    }
   ],
   "source": [
    "X_over.head(5)"
   ]
  },
  {
   "cell_type": "code",
   "execution_count": 9,
   "id": "d0cb6cb8",
   "metadata": {},
   "outputs": [],
   "source": [
    "X_over = X_over.apply(lambda x: x.lower())\n",
    "X_test = X_test.apply(lambda x: x.lower())"
   ]
  },
  {
   "cell_type": "code",
   "execution_count": 10,
   "id": "87aee2f5",
   "metadata": {},
   "outputs": [
    {
     "data": {
      "text/plain": [
       "0     das gerät kam schnell und einwandfrei an!\n",
       "1           so wie ich es mir vorgestellt habe.\n",
       "2    missing head phones please bring it thanks\n",
       "3                   sehr gutes handy top kamera\n",
       "4       gutes produkt. sehr weiter zu empfehlen\n",
       "dtype: object"
      ]
     },
     "execution_count": 10,
     "metadata": {},
     "output_type": "execute_result"
    }
   ],
   "source": [
    "X_over.head(5)"
   ]
  },
  {
   "cell_type": "markdown",
   "id": "8d1bcd28",
   "metadata": {},
   "source": [
    "## 3.2 Punctuation"
   ]
  },
  {
   "cell_type": "code",
   "execution_count": 11,
   "id": "d1900e56",
   "metadata": {},
   "outputs": [],
   "source": [
    "punct_list = '[\"#$%&\\'()*+,-./:;<=>@[\\]^_`{|}~’‘´`\\']'"
   ]
  },
  {
   "cell_type": "code",
   "execution_count": 12,
   "id": "9c541cca",
   "metadata": {},
   "outputs": [],
   "source": [
    "X_over = X_over.apply(lambda x: re.sub(punct_list, \"\", x))\n",
    "X_test = X_test.apply(lambda x: re.sub(punct_list, \"\", x))"
   ]
  },
  {
   "cell_type": "markdown",
   "id": "582e1e13",
   "metadata": {},
   "source": [
    "## 3.3 Numbers removing"
   ]
  },
  {
   "cell_type": "code",
   "execution_count": 13,
   "id": "225d84b6",
   "metadata": {},
   "outputs": [],
   "source": [
    "X_over = X_over.apply(lambda x: re.sub(\"\\d+\", \"\", x))\n",
    "X_test = X_test.apply(lambda x: re.sub(\"\\d+\", \"\", x))"
   ]
  },
  {
   "cell_type": "markdown",
   "id": "5e1a2280",
   "metadata": {},
   "source": [
    "## 3.4 Lemmatization"
   ]
  },
  {
   "cell_type": "code",
   "execution_count": 14,
   "id": "5b49090e",
   "metadata": {},
   "outputs": [],
   "source": [
    "nlp = spacy.load('de_core_news_sm')"
   ]
  },
  {
   "cell_type": "code",
   "execution_count": 15,
   "id": "7b23a674",
   "metadata": {},
   "outputs": [],
   "source": [
    "X_over = X_over.apply(lambda sentence: \" \".join([token.lemma_ for token in nlp(sentence)]))\n",
    "X_test = X_test.apply(lambda sentence: \" \".join([token.lemma_ for token in nlp(sentence)]))"
   ]
  },
  {
   "cell_type": "markdown",
   "id": "c426e038",
   "metadata": {},
   "source": [
    "# 4. Modeling"
   ]
  },
  {
   "cell_type": "markdown",
   "id": "d370ec20",
   "metadata": {},
   "source": [
    "## 4.1 Search of optimal coefficient C"
   ]
  },
  {
   "cell_type": "code",
   "execution_count": 16,
   "id": "ff78ffdd",
   "metadata": {},
   "outputs": [
    {
     "name": "stderr",
     "output_type": "stream",
     "text": [
      "100%|██████████████████████████████████████████████████████████████████████████████████| 30/30 [03:39<00:00,  7.32s/it]\n"
     ]
    }
   ],
   "source": [
    "C_list = np.linspace(0.1, 20, 30)\n",
    "acc_list = []\n",
    "\n",
    "for C in tqdm(C_list):\n",
    "    pi = Pipeline([('counter', CountVectorizer(ngram_range=(1, 2))),\n",
    "               ('tfidf', TfidfTransformer()),\n",
    "               ('lr', LogisticRegression(C=C))])\n",
    "    res = cross_val_score(estimator=pi, X=X_over, y=y_over, cv=5, scoring='accuracy')\n",
    "    acc_list.append(res.mean())"
   ]
  },
  {
   "cell_type": "code",
   "execution_count": 17,
   "id": "c441457c",
   "metadata": {},
   "outputs": [
    {
     "data": {
      "image/png": "[encoded data removed]",
      "text/plain": [
       "<Figure size 864x576 with 1 Axes>"
      ]
     },
     "metadata": {
      "needs_background": "light"
     },
     "output_type": "display_data"
    }
   ],
   "source": [
    "plt.figure(figsize=(12, 8))\n",
    "plt.plot(C_list, acc_list, color='darkviolet')\n",
    "plt.xlabel('C-values')\n",
    "plt.ylabel('Accuracy');"
   ]
  },
  {
   "cell_type": "markdown",
   "id": "bbc31149",
   "metadata": {},
   "source": [
    "## 4.2 Search of optimal coefficient C and n-grams"
   ]
  },
  {
   "cell_type": "code",
   "execution_count": 18,
   "id": "14c4b736",
   "metadata": {},
   "outputs": [
    {
     "name": "stderr",
     "output_type": "stream",
     "text": [
      "100%|███████████████████████████████████████████████████████████████████████████████| 10/10 [1:18:01<00:00, 468.12s/it]"
     ]
    },
    {
     "name": "stdout",
     "output_type": "stream",
     "text": [
      "Wall time: 1h 18min 1s\n"
     ]
    },
    {
     "name": "stderr",
     "output_type": "stream",
     "text": [
      "\n"
     ]
    }
   ],
   "source": [
    "%%time\n",
    "C_list = [20 + (i-3) for i in range(10)]\n",
    "n_list = [1 + i for i in range(10)]\n",
    "acc_list = [[0] * 10 for i in range(10)]\n",
    "\n",
    "for i in tqdm(range(10)):\n",
    "    for j in range(10):\n",
    "        pi = Pipeline([('counter', CountVectorizer(ngram_range=(1, n_list[i]))),\n",
    "                       ('tfidf', TfidfTransformer()),\n",
    "                       ('lr', LogisticRegression(C=C_list[j]))])\n",
    "        res = cross_val_score(estimator=pi, X=X_over, y=y_over, cv=5, scoring='accuracy')\n",
    "        acc_list[i][j] = res.mean()"
   ]
  },
  {
   "cell_type": "code",
   "execution_count": 19,
   "id": "fee6abcf",
   "metadata": {},
   "outputs": [
    {
     "data": {
      "image/png": "[encoded data removed]",
      "text/plain": [
       "<Figure size 648x432 with 2 Axes>"
      ]
     },
     "metadata": {
      "needs_background": "light"
     },
     "output_type": "display_data"
    }
   ],
   "source": [
    "fig, ax = plt.subplots(figsize=(9, 6))\n",
    "cs = ax.contourf(n_list, C_list, np.array(acc_list).T, cmap=cm.afmhot, levels=100)\n",
    "cbar = fig.colorbar(cs)\n",
    "cbar.set_label('Accuracy')\n",
    "plt.title('Dependence of accuracy on n_grams and C')\n",
    "plt.xlabel('n-grams')\n",
    "plt.ylabel('C')\n",
    "plt.savefig('imgs/grid.png');"
   ]
  },
  {
   "cell_type": "code",
   "execution_count": 20,
   "id": "a575e1f6",
   "metadata": {},
   "outputs": [],
   "source": [
    "C_win = 20\n",
    "n_win = 2"
   ]
  },
  {
   "cell_type": "markdown",
   "id": "3d04e515",
   "metadata": {},
   "source": [
    "## 4.3 Test"
   ]
  },
  {
   "cell_type": "code",
   "execution_count": 21,
   "id": "52a50d01",
   "metadata": {},
   "outputs": [
    {
     "data": {
      "text/plain": [
       "Pipeline(steps=[('counter', CountVectorizer(ngram_range=(1, 2))),\n",
       "                ('tfidf', TfidfTransformer()),\n",
       "                ('lr', LogisticRegression(C=20))])"
      ]
     },
     "execution_count": 21,
     "metadata": {},
     "output_type": "execute_result"
    }
   ],
   "source": [
    "pi = Pipeline([('counter', CountVectorizer(ngram_range=(1, n_win))),\n",
    "               ('tfidf', TfidfTransformer()),\n",
    "               ('lr', LogisticRegression(C=C_win))])\n",
    "pi.fit(X_over, y_over)"
   ]
  },
  {
   "cell_type": "code",
   "execution_count": 22,
   "id": "19943320",
   "metadata": {},
   "outputs": [],
   "source": [
    "pred = pi.predict(X_test)"
   ]
  },
  {
   "cell_type": "code",
   "execution_count": 23,
   "id": "71b8eb9d",
   "metadata": {},
   "outputs": [
    {
     "name": "stdout",
     "output_type": "stream",
     "text": [
      "Accuracy is equal 0.945985401459854\n"
     ]
    }
   ],
   "source": [
    "print('Accuracy is equal', sum(pred == y_test) / y_test.shape[0])"
   ]
  },
  {
   "cell_type": "markdown",
   "id": "ffe43f2c",
   "metadata": {},
   "source": [
    "Such result is definetely acceptable."
   ]
  },
  {
   "cell_type": "markdown",
   "id": "fb2581da",
   "metadata": {},
   "source": [
    "# 5. Save of model"
   ]
  },
  {
   "cell_type": "code",
   "execution_count": 24,
   "id": "02613dab",
   "metadata": {},
   "outputs": [
    {
     "data": {
      "text/plain": [
       "['model.joblib']"
      ]
     },
     "execution_count": 24,
     "metadata": {},
     "output_type": "execute_result"
    }
   ],
   "source": [
    "dump(pi, 'model.joblib')"
   ]
  },
  {
   "cell_type": "code",
   "execution_count": 25,
   "id": "f630f8f8",
   "metadata": {},
   "outputs": [],
   "source": [
    "features = pi['counter'].get_feature_names()"
   ]
  },
  {
   "cell_type": "code",
   "execution_count": 26,
   "id": "f7e45fb7",
   "metadata": {},
   "outputs": [
    {
     "data": {
      "text/plain": [
       "89484"
      ]
     },
     "execution_count": 26,
     "metadata": {},
     "output_type": "execute_result"
    }
   ],
   "source": [
    "len(features)"
   ]
  },
  {
   "cell_type": "code",
   "execution_count": 27,
   "id": "21d611ff",
   "metadata": {},
   "outputs": [],
   "source": [
    "feats = list(zip(features, list(pi['lr'].coef_[0])))"
   ]
  },
  {
   "cell_type": "code",
   "execution_count": 28,
   "id": "3705f1dc",
   "metadata": {},
   "outputs": [],
   "source": [
    "feats.sort(key=lambda x: x[1], reverse=True)"
   ]
  },
  {
   "cell_type": "code",
   "execution_count": 29,
   "id": "8fabc1b4",
   "metadata": {},
   "outputs": [],
   "source": [
    "top20 = [i[0] for i in feats[:20]]"
   ]
  },
  {
   "cell_type": "code",
   "execution_count": 30,
   "id": "907f377f",
   "metadata": {},
   "outputs": [],
   "source": [
    "feats.sort(key=lambda x: x[1])"
   ]
  },
  {
   "cell_type": "code",
   "execution_count": 31,
   "id": "4319f7e8",
   "metadata": {},
   "outputs": [],
   "source": [
    "neg20 = [i[0] for i in feats[:20]]"
   ]
  },
  {
   "cell_type": "code",
   "execution_count": 32,
   "id": "dd672c8e",
   "metadata": {},
   "outputs": [],
   "source": [
    "pd.DataFrame(neg20, columns=['Top negative phrases']).join(pd.DataFrame(top20, columns=['Top positive phrases'])).to_csv('top.csv', index=False)"
   ]
  },
  {
   "cell_type": "code",
   "execution_count": 33,
   "id": "19866962",
   "metadata": {},
   "outputs": [
    {
     "data": {
      "text/html": [
       "<div>\n",
       "<style scoped>\n",
       "    .dataframe tbody tr th:only-of-type {\n",
       "        vertical-align: middle;\n",
       "    }\n",
       "\n",
       "    .dataframe tbody tr th {\n",
       "        vertical-align: top;\n",
       "    }\n",
       "\n",
       "    .dataframe thead th {\n",
       "        text-align: right;\n",
       "    }\n",
       "</style>\n",
       "<table border=\"1\" class=\"dataframe\">\n",
       "  <thead>\n",
       "    <tr style=\"text-align: right;\">\n",
       "      <th></th>\n",
       "      <th>Top negative phrases</th>\n",
       "      <th>Top positive phrases</th>\n",
       "    </tr>\n",
       "  </thead>\n",
       "  <tbody>\n",
       "    <tr>\n",
       "      <th>0</th>\n",
       "      <td>nicht</td>\n",
       "      <td>super</td>\n",
       "    </tr>\n",
       "    <tr>\n",
       "      <th>1</th>\n",
       "      <td>schlecht</td>\n",
       "      <td>top</td>\n",
       "    </tr>\n",
       "    <tr>\n",
       "      <th>2</th>\n",
       "      <td>zurück</td>\n",
       "      <td>toll</td>\n",
       "    </tr>\n",
       "    <tr>\n",
       "      <th>3</th>\n",
       "      <td>der</td>\n",
       "      <td>iphone</td>\n",
       "    </tr>\n",
       "    <tr>\n",
       "      <th>4</th>\n",
       "      <td>defekt</td>\n",
       "      <td>alle</td>\n",
       "    </tr>\n",
       "    <tr>\n",
       "      <th>5</th>\n",
       "      <td>kein</td>\n",
       "      <td>der gut</td>\n",
       "    </tr>\n",
       "    <tr>\n",
       "      <th>6</th>\n",
       "      <td>nach</td>\n",
       "      <td>schön</td>\n",
       "    </tr>\n",
       "    <tr>\n",
       "      <th>7</th>\n",
       "      <td>akku</td>\n",
       "      <td>zufrieden</td>\n",
       "    </tr>\n",
       "    <tr>\n",
       "      <th>8</th>\n",
       "      <td>langsam</td>\n",
       "      <td>apple</td>\n",
       "    </tr>\n",
       "    <tr>\n",
       "      <th>9</th>\n",
       "      <td>leider</td>\n",
       "      <td>gut gehen</td>\n",
       "    </tr>\n",
       "    <tr>\n",
       "      <th>10</th>\n",
       "      <td>preisleistungsverhältnis top</td>\n",
       "      <td>klasse</td>\n",
       "    </tr>\n",
       "    <tr>\n",
       "      <th>11</th>\n",
       "      <td>schrott</td>\n",
       "      <td>gutes</td>\n",
       "    </tr>\n",
       "    <tr>\n",
       "      <th>12</th>\n",
       "      <td>dies</td>\n",
       "      <td>handy</td>\n",
       "    </tr>\n",
       "    <tr>\n",
       "      <th>13</th>\n",
       "      <td>sein zufriede</td>\n",
       "      <td>begeistern</td>\n",
       "    </tr>\n",
       "    <tr>\n",
       "      <th>14</th>\n",
       "      <td>zufriede</td>\n",
       "      <td>halt</td>\n",
       "    </tr>\n",
       "    <tr>\n",
       "      <th>15</th>\n",
       "      <td>kaputt</td>\n",
       "      <td>sagen</td>\n",
       "    </tr>\n",
       "    <tr>\n",
       "      <th>16</th>\n",
       "      <td>werden</td>\n",
       "      <td>bis jetzt</td>\n",
       "    </tr>\n",
       "    <tr>\n",
       "      <th>17</th>\n",
       "      <td>beim</td>\n",
       "      <td>noch</td>\n",
       "    </tr>\n",
       "    <tr>\n",
       "      <th>18</th>\n",
       "      <td>dann</td>\n",
       "      <td>samsung</td>\n",
       "    </tr>\n",
       "    <tr>\n",
       "      <th>19</th>\n",
       "      <td>gehen</td>\n",
       "      <td>gut handy</td>\n",
       "    </tr>\n",
       "  </tbody>\n",
       "</table>\n",
       "</div>"
      ],
      "text/plain": [
       "            Top negative phrases Top positive phrases\n",
       "0                          nicht                super\n",
       "1                       schlecht                  top\n",
       "2                         zurück                 toll\n",
       "3                            der               iphone\n",
       "4                         defekt                 alle\n",
       "5                           kein              der gut\n",
       "6                           nach                schön\n",
       "7                           akku            zufrieden\n",
       "8                        langsam                apple\n",
       "9                         leider            gut gehen\n",
       "10  preisleistungsverhältnis top               klasse\n",
       "11                       schrott                gutes\n",
       "12                          dies                handy\n",
       "13                 sein zufriede           begeistern\n",
       "14                      zufriede                 halt\n",
       "15                        kaputt                sagen\n",
       "16                        werden            bis jetzt\n",
       "17                          beim                 noch\n",
       "18                          dann              samsung\n",
       "19                         gehen            gut handy"
      ]
     },
     "execution_count": 33,
     "metadata": {},
     "output_type": "execute_result"
    }
   ],
   "source": [
    "pd.DataFrame(neg20, columns=['Top negative phrases']).join(pd.DataFrame(top20, columns=['Top positive phrases']))"
   ]
  }
 ],
 "metadata": {
  "kernelspec": {
   "display_name": "Python 3",
   "language": "python",
   "name": "python3"
  },
  "language_info": {
   "codemirror_mode": {
    "name": "ipython",
    "version": 3
   },
   "file_extension": ".py",
   "mimetype": "text/x-python",
   "name": "python",
   "nbconvert_exporter": "python",
   "pygments_lexer": "ipython3",
   "version": "3.8.5"
  }
 },
 "nbformat": 4,
 "nbformat_minor": 5
}
