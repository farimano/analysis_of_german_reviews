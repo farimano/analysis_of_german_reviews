{
 "cells": [
  {
   "cell_type": "markdown",
   "id": "6c5a7a32",
   "metadata": {},
   "source": [
    "# 1. Import and concatenation of datasets"
   ]
  },
  {
   "cell_type": "code",
   "execution_count": 1,
   "id": "0ee7aba4",
   "metadata": {},
   "outputs": [],
   "source": [
    "import pandas as pd\n",
    "\n",
    "from sklearn.model_selection import train_test_split"
   ]
  },
  {
   "cell_type": "code",
   "execution_count": 2,
   "id": "15258590",
   "metadata": {},
   "outputs": [],
   "source": [
    "data = pd.read_csv('data/fixed_raw_data.csv')\n",
    "data = data[['Review', 'Rate']]\n",
    "data = data[data.Rate != 3].reset_index(drop=True)\n",
    "data.Rate = data.Rate.apply(lambda x: x//3)"
   ]
  },
  {
   "cell_type": "code",
   "execution_count": 3,
   "id": "546e3953",
   "metadata": {},
   "outputs": [
    {
     "data": {
      "text/plain": [
       "1    4237\n",
       "0      76\n",
       "Name: Rate, dtype: int64"
      ]
     },
     "execution_count": 3,
     "metadata": {},
     "output_type": "execute_result"
    }
   ],
   "source": [
    "data.Rate.value_counts()"
   ]
  },
  {
   "cell_type": "markdown",
   "id": "4032772d",
   "metadata": {},
   "source": [
    "It is a very strong imbalance. Fortunately, we have already parsed additional negative reviews. The method of parse was the same as earlier."
   ]
  },
  {
   "cell_type": "code",
   "execution_count": 4,
   "id": "ff832732",
   "metadata": {},
   "outputs": [],
   "source": [
    "neg_data = pd.read_csv('data/neg_data.csv')"
   ]
  },
  {
   "cell_type": "code",
   "execution_count": 5,
   "id": "f2522f87",
   "metadata": {},
   "outputs": [],
   "source": [
    "data = pd.concat([data, neg_data]).reset_index(drop=True)"
   ]
  },
  {
   "cell_type": "code",
   "execution_count": 6,
   "id": "9c2015a7",
   "metadata": {},
   "outputs": [
    {
     "data": {
      "text/plain": [
       "1    4237\n",
       "0    3332\n",
       "Name: Rate, dtype: int64"
      ]
     },
     "execution_count": 6,
     "metadata": {},
     "output_type": "execute_result"
    }
   ],
   "source": [
    "data.Rate.value_counts()"
   ]
  },
  {
   "cell_type": "markdown",
   "id": "40c13159",
   "metadata": {},
   "source": [
    "It is better now. However, a part of new dataset is not written by German speakers."
   ]
  },
  {
   "cell_type": "markdown",
   "id": "4d6cd85c",
   "metadata": {},
   "source": [
    "# 2. Data cleaning"
   ]
  },
  {
   "cell_type": "markdown",
   "id": "a027844f",
   "metadata": {},
   "source": [
    "During parsing several problems emerges. Firstly, review with videos has 'Your browser does not support HTML5 video.' in the post. Secondly, sometimes there are other languages and we want only German reviews."
   ]
  },
  {
   "cell_type": "code",
   "execution_count": 7,
   "id": "94731b03",
   "metadata": {},
   "outputs": [],
   "source": [
    "def support_html_del(text):\n",
    "    if text[:42] == 'Your browser does not support HTML5 video.':\n",
    "        text = text[42:]\n",
    "    return text"
   ]
  },
  {
   "cell_type": "code",
   "execution_count": 8,
   "id": "db026354",
   "metadata": {},
   "outputs": [],
   "source": [
    "data.Review = data.Review.apply(support_html_del)"
   ]
  },
  {
   "cell_type": "code",
   "execution_count": 9,
   "id": "df83b0e8",
   "metadata": {},
   "outputs": [],
   "source": [
    "foreign_words = [' very', \n",
    "                 ' with', \n",
    "                 ' the', \n",
    "                 ' great', \n",
    "                 ' need', \n",
    "                 ' love', \n",
    "                 ' awesome', \n",
    "                 'just', \n",
    "                 ' say', \n",
    "                 ' ik ', \n",
    "                 ' did ', \n",
    "                 ' bad ', \n",
    "                 ' sono ', \n",
    "                 ' to be ', \n",
    "                 ' le ', \n",
    "                 ' el ', \n",
    "                 ' as ', \n",
    "                 ' al ', \n",
    "                 ' per ', \n",
    "                 ' if ', \n",
    "                 ' de ', \n",
    "                 ' il ', \n",
    "                 ' would ', \n",
    "                 ' la ', \n",
    "                 ' this ', \n",
    "                 ' had ', \n",
    "                 ' working ', \n",
    "                 ' beware', \n",
    "                 ' go ', \n",
    "                 ' after ', \n",
    "                 ' is ', \n",
    "                 ' too ', \n",
    "                 ' di ', \n",
    "                 ' se ', \n",
    "                 ' si ', \n",
    "                 ' senza ', \n",
    "                 ' buen', \n",
    "                 ' ritardo ', \n",
    "                 ' normalito ', \n",
    "                 ' vale ', \n",
    "                 ' ma ', \n",
    "                 ' telefono ', \n",
    "                 ' e ',\n",
    "                 ' mi ', \n",
    "                 ' con ',\n",
    "                 ' do ',\n",
    "                 ' lo ',\n",
    "                 ' un ',\n",
    "                 ' y ',\n",
    "                 ' nul ',\n",
    "                 ' and ',\n",
    "                 ' cose ',\n",
    "                 ' receive',\n",
    "                 ' return',\n",
    "                 ' en ',\n",
    "                 ' buono ',\n",
    "                 ' tiene ',\n",
    "                 ' muy ',\n",
    "                 ' arrivato ',\n",
    "                 ' bene ',\n",
    "                 ' pas ',\n",
    "                 ' lousy',\n",
    "                 ' off ',\n",
    "                 ' lo ',\n",
    "                 ' anche ',\n",
    "                 ' buon ',\n",
    "                 ' decepcionante ',\n",
    "                 ' prodotto ',\n",
    "                 ' recomiendo ',\n",
    "                 ' regular ',\n",
    "                 ' venditore',\n",
    "                 ' em ',\n",
    "                 ' se ',\n",
    "                 ' meu ',\n",
    "                 ' problemsa',\n",
    "                 ' mas ',\n",
    "                 ' trave ',\n",
    "                 ' poca ',\n",
    "                 ' molto ',\n",
    "                 ' dando ',\n",
    "                 ' flop ',\n",
    "                 ' capacida',\n",
    "                 ' q ',\n",
    "                 ' produto ',\n",
    "                 ' mo ',\n",
    "                 ' facile ',\n",
    "                 ' C ',\n",
    "                 ' Kit ',\n",
    "                 ' and ',\n",
    "                 ' me ',\n",
    "                 ' worst ',\n",
    "                 ' ever ',\n",
    "                 ' a ',\n",
    "                 ' good ',\n",
    "                 ' fun ',\n",
    "                 ' vendeur ']"
   ]
  },
  {
   "cell_type": "code",
   "execution_count": 10,
   "id": "684fccb8",
   "metadata": {},
   "outputs": [],
   "source": [
    "def is_german_language(text):\n",
    "    text = text.lower()\n",
    "    text = ' ' + text + ' '\n",
    "    for l in text:\n",
    "        if l in 'çàąćęłńóśźżйцкнгшщзъфывплджэячмиьбюéèáñに対応との事ですが実際使ってみると動作が遅くなりますこの価格ならあと数千円出して有機ELディスプレイのãéíáóù':\n",
    "            return False\n",
    "    for i in foreign_words:\n",
    "        if i in text:\n",
    "            return False\n",
    "    return True"
   ]
  },
  {
   "cell_type": "code",
   "execution_count": 11,
   "id": "412ace0c",
   "metadata": {},
   "outputs": [],
   "source": [
    "data = data[data.Review.apply(is_german_language)].reset_index(drop=True)"
   ]
  },
  {
   "cell_type": "code",
   "execution_count": 12,
   "id": "8190aaa2",
   "metadata": {},
   "outputs": [
    {
     "data": {
      "text/plain": [
       "1    4176\n",
       "0    2667\n",
       "Name: Rate, dtype: int64"
      ]
     },
     "execution_count": 12,
     "metadata": {},
     "output_type": "execute_result"
    }
   ],
   "source": [
    "data.Rate.value_counts()"
   ]
  },
  {
   "cell_type": "markdown",
   "id": "217fa044",
   "metadata": {},
   "source": [
    "Not perfect, but we can work with this."
   ]
  },
  {
   "cell_type": "code",
   "execution_count": 13,
   "id": "3d734011",
   "metadata": {},
   "outputs": [],
   "source": [
    "data.to_csv('data/data.csv', index=False)"
   ]
  },
  {
   "cell_type": "markdown",
   "id": "8cea57e0",
   "metadata": {},
   "source": [
    "# 3. Train and test split"
   ]
  },
  {
   "cell_type": "code",
   "execution_count": 14,
   "id": "f842f9cf",
   "metadata": {},
   "outputs": [],
   "source": [
    "data_train, data_test = train_test_split(data, test_size=0.1, shuffle=True, stratify=data['Rate'].values, random_state=108)"
   ]
  },
  {
   "cell_type": "code",
   "execution_count": 15,
   "id": "c801e31f",
   "metadata": {},
   "outputs": [],
   "source": [
    "data_train.to_csv('data/train.csv', index=False)\n",
    "data_test.to_csv('data/test.csv', index=False)"
   ]
  }
 ],
 "metadata": {
  "kernelspec": {
   "display_name": "Python 3",
   "language": "python",
   "name": "python3"
  },
  "language_info": {
   "codemirror_mode": {
    "name": "ipython",
    "version": 3
   },
   "file_extension": ".py",
   "mimetype": "text/x-python",
   "name": "python",
   "nbconvert_exporter": "python",
   "pygments_lexer": "ipython3",
   "version": "3.8.5"
  }
 },
 "nbformat": 4,
 "nbformat_minor": 5
}
